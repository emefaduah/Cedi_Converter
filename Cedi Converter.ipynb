{
 "cells": [
  {
   "cell_type": "markdown",
   "id": "70128d87",
   "metadata": {},
   "source": [
    "# Cedi Converter\n",
    "\n",
    "#### By Emefa Duah"
   ]
  },
  {
   "cell_type": "code",
   "execution_count": null,
   "id": "fdacfc74",
   "metadata": {},
   "outputs": [],
   "source": [
    "#The Currency rates used were rates on March 15, 2023 \n",
    "# Note that currency rates are updated frequently."
   ]
  },
  {
   "cell_type": "code",
   "execution_count": 1,
   "id": "218e8a9c",
   "metadata": {},
   "outputs": [],
   "source": [
    "class CediConverter:\n",
    "    def __init__(self, amount):\n",
    "        self.amount = amount\n",
    "        \n",
    "    def __str__(self):\n",
    "        return f\"Your amount is GHS{self.amount}.\"\n",
    "    \n",
    "    def ghs_usd(self):\n",
    "        dollar = self.amount * 0.080\n",
    "        return f\"GHS{self.amount} is ${dollar}\"\n",
    "    \n",
    "    def ghs_gbp(self):\n",
    "        pound = self.amount * 0.066\n",
    "        return f\"GHS{self.amount} is £{pound}\"    \n",
    "\n",
    "    def ghs_eur(self):\n",
    "        euro = self.amount * 0.075\n",
    "        return f\"GHS{self.amount} is €{euro}\"\n",
    "    \n",
    "    def ghs_yen(self):\n",
    "        yen = self.amount * 10.79\n",
    "        return f\"GHS{self.amount} is ¥{round(yen,2)}\"\n"
   ]
  },
  {
   "cell_type": "code",
   "execution_count": 2,
   "id": "14954895",
   "metadata": {
    "scrolled": true
   },
   "outputs": [
    {
     "name": "stdout",
     "output_type": "stream",
     "text": [
      " Enter Cedi amount:1000\n",
      "Your amount is GHS1000.\n",
      "Enter\n",
      " 1 for Dollar\n",
      " 2 for Pound\n",
      " 3 for Euro\n",
      " 4 for Yen\n",
      "3\n",
      "GHS1000 is €75.0\n"
     ]
    }
   ],
   "source": [
    "cedi_amount = CediConverter(int(input(\" Enter Cedi amount:\")))\n",
    "print(cedi_amount)\n",
    "\n",
    "currency = int(input(\"Enter\\n 1 for Dollar\\n 2 for Pound\\n 3 for Euro\\n 4 for Yen\\n\"))\n",
    "if currency == 1:\n",
    "    print(cedi_amount.ghs_usd())\n",
    "elif currency == 2:\n",
    "    print(cedi_amount.ghs_gbp())\n",
    "elif currency == 3:\n",
    "    print(cedi_amount.ghs_eur())\n",
    "elif currency == 4:\n",
    "    print(cedi_amount.ghs_yen())\n",
    "else:\n",
    "    print(\"Wrong input.\")"
   ]
  },
  {
   "cell_type": "code",
   "execution_count": null,
   "id": "61814ea7",
   "metadata": {},
   "outputs": [],
   "source": []
  }
 ],
 "metadata": {
  "kernelspec": {
   "display_name": "Python 3 (ipykernel)",
   "language": "python",
   "name": "python3"
  },
  "language_info": {
   "codemirror_mode": {
    "name": "ipython",
    "version": 3
   },
   "file_extension": ".py",
   "mimetype": "text/x-python",
   "name": "python",
   "nbconvert_exporter": "python",
   "pygments_lexer": "ipython3",
   "version": "3.9.12"
  }
 },
 "nbformat": 4,
 "nbformat_minor": 5
}
